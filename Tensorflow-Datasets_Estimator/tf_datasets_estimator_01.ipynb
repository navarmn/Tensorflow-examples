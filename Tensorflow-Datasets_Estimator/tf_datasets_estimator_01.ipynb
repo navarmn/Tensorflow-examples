{
 "cells": [
  {
   "cell_type": "code",
   "execution_count": 1,
   "metadata": {},
   "outputs": [
    {
     "name": "stderr",
     "output_type": "stream",
     "text": [
      "/home/navar/anaconda3/lib/python3.6/importlib/_bootstrap.py:219: RuntimeWarning: numpy.dtype size changed, may indicate binary incompatibility. Expected 96, got 88\n",
      "  return f(*args, **kwds)\n",
      "/home/navar/anaconda3/lib/python3.6/site-packages/h5py/__init__.py:36: FutureWarning: Conversion of the second argument of issubdtype from `float` to `np.floating` is deprecated. In future, it will be treated as `np.float64 == np.dtype(float).type`.\n",
      "  from ._conv import register_converters as _register_converters\n"
     ]
    }
   ],
   "source": [
    "# Example: https://developers.googleblog.com/2017/09/introducing-tensorflow-datasets.html\n",
    "\n",
    "import tensorflow as  tf\n",
    "\n",
    "import os\n",
    "ROOT = '/mnt/Work/Projects/Tensorflow-examples/Tensorflow-Datasets_Estimator'\n",
    "DATAPATH = os.path.join(ROOT, 'data')\n",
    "FILE = os.path.join(DATAPATH, 'iris_training.csv')\n",
    "\n",
    "\n",
    "# Create a list to be used in feature columns:\n",
    "FEATURE_NAMES = [\n",
    "    'SepalLength',\n",
    "    'SepalWidth',\n",
    "    'PetalLength',\n",
    "    'PetalWidth']   "
   ]
  },
  {
   "cell_type": "code",
   "execution_count": 2,
   "metadata": {},
   "outputs": [],
   "source": [
    "# Estimators requires an input_fn()\n",
    "\n",
    "def input_fn(file_path, shuffle=False, repeat_count=1):\n",
    "    def decode_csv(line):\n",
    "        parsed_line = tf.decode_csv(line, record_defaults=[[0.]]*5)\n",
    "        label = parsed_line[-1:]\n",
    "        features = parsed_line[:-1]\n",
    "        return dict(zip(FEATURE_NAMES, features)), label\n",
    "\n",
    "    # Creates an instace of the TextLineDataset class\n",
    "    dataset = (tf.data.TextLineDataset(file_path).skip(1).map(decode_csv))\n",
    "    \n",
    "    if shuffle:\n",
    "       # Randomizes input using a window of 256 elements (read into memory)\n",
    "       dataset = dataset.shuffle(buffer_size=256)\n",
    "        \n",
    "    dataset = dataset.repeat(repeat_count) # Repeats dataset this # times\n",
    "    dataset = dataset.batch(8)  # Batch size to use\n",
    "    iterator = dataset.make_one_shot_iterator()\n",
    "    batch_features, batch_labels = iterator.get_next()\n",
    "    \n",
    "    return batch_features, batch_labels\n",
    "    "
   ]
  },
  {
   "cell_type": "code",
   "execution_count": 3,
   "metadata": {},
   "outputs": [
    {
     "name": "stdout",
     "output_type": "stream",
     "text": [
      "({'SepalLength': array([4.8, 5.6, 5.2, 4.4, 4.9, 6.7, 6. , 6.1], dtype=float32), 'SepalWidth': array([3. , 2.7, 2.7, 3. , 3.1, 3. , 2.2, 2.8], dtype=float32), 'PetalLength': array([1.4, 4.2, 3.9, 1.3, 1.5, 5. , 5. , 4. ], dtype=float32), 'PetalWidth': array([0.3, 1.3, 1.4, 0.2, 0.1, 1.7, 1.5, 1.3], dtype=float32)}, array([[0.],\n",
      "       [1.],\n",
      "       [1.],\n",
      "       [0.],\n",
      "       [0.],\n",
      "       [1.],\n",
      "       [2.],\n",
      "       [1.]], dtype=float32))\n"
     ]
    }
   ],
   "source": [
    "next_batch = input_fn(FILE, True) # Will return 32 random elements\n",
    "\n",
    "with tf.Session() as sess:\n",
    "    first_batch = sess.run(next_batch)\n",
    "    \n",
    "print(first_batch)"
   ]
  },
  {
   "cell_type": "code",
   "execution_count": null,
   "metadata": {},
   "outputs": [],
   "source": []
  },
  {
   "cell_type": "code",
   "execution_count": null,
   "metadata": {},
   "outputs": [],
   "source": []
  },
  {
   "cell_type": "code",
   "execution_count": null,
   "metadata": {},
   "outputs": [],
   "source": []
  },
  {
   "cell_type": "code",
   "execution_count": null,
   "metadata": {},
   "outputs": [],
   "source": []
  }
 ],
 "metadata": {
  "kernelspec": {
   "display_name": "Python 3",
   "language": "python",
   "name": "python3"
  },
  "language_info": {
   "codemirror_mode": {
    "name": "ipython",
    "version": 3
   },
   "file_extension": ".py",
   "mimetype": "text/x-python",
   "name": "python",
   "nbconvert_exporter": "python",
   "pygments_lexer": "ipython3",
   "version": "3.6.5"
  },
  "varInspector": {
   "cols": {
    "lenName": 16,
    "lenType": 16,
    "lenVar": 40
   },
   "kernels_config": {
    "python": {
     "delete_cmd_postfix": "",
     "delete_cmd_prefix": "del ",
     "library": "var_list.py",
     "varRefreshCmd": "print(var_dic_list())"
    },
    "r": {
     "delete_cmd_postfix": ") ",
     "delete_cmd_prefix": "rm(",
     "library": "var_list.r",
     "varRefreshCmd": "cat(var_dic_list()) "
    }
   },
   "types_to_exclude": [
    "module",
    "function",
    "builtin_function_or_method",
    "instance",
    "_Feature"
   ],
   "window_display": false
  }
 },
 "nbformat": 4,
 "nbformat_minor": 2
}
